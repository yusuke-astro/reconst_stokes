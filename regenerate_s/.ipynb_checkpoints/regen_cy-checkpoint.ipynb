{
 "cells": [
  {
   "cell_type": "code",
   "execution_count": 1,
   "metadata": {},
   "outputs": [],
   "source": [
    "%load_ext Cython"
   ]
  },
  {
   "cell_type": "code",
   "execution_count": 17,
   "metadata": {},
   "outputs": [],
   "source": [
    "%%cython\n",
    "\"\"\"\n",
    "regen01.pyからの変更点．\n",
    "・np.loadで配列読み込み\n",
    "\n",
    "ストークスパラメータの再構成を行うプログラム．\n",
    "Planckの観測データCOM_CMB_IQU-nilc_1024_R2.02_full.fitsのI成分をLiteBIRDのTrackで観測していく．\n",
    "最後の観測データはI=[I_1,I_2,I_3,...I_NPIX]のピクセルに対するIの値とLiteBIRDの重複観測ピクセルI_lu=[,,,I_lu_NPIX]の積\n",
    "I_observeで\n",
    "\"\"\"\n",
    "import numpy as np\n",
    "import healpy as hp\n",
    "import matplotlib.pyplot as plt\n",
    "import astropy.io as ap\n",
    "import time\n",
    "from joblib import Parallel, delayed\n",
    "import cython\n",
    "cimport numpy as cnp\n",
    "\n",
    "def stokes(int i, cnp.ndarray pix, cnp.ndarray I_obs):#iには0からNPIXまでのintをいれる\n",
    "    cdef:\n",
    "        int times\n",
    "        cnp.ndarray  D_mat, sum_D_pinv, D_E, wp, sum_wp, s_tilde, t\n",
    "        double w\n",
    "\n",
    "    t = np.where(pix == i)[0]#i番目のPixcelを踏んだときの時間がtに配列ではいる．\n",
    "\n",
    "    times = t.size\n",
    "    #print(times)\n",
    "    w = 2*np.pi*(0.3/60)\n",
    "    det = np.array([np.ones(times),np.sin(2*w*t),np.zeros(times),np.cos(2*w*t)])\n",
    "\n",
    "    D_mat = np.array([\n",
    "            [np.ones(times), np.sin(2*w*t),np.zeros(times),np.cos(2*w*t)],\n",
    "            [np.sin(2*w*t),np.sin(2*w*t)**2,np.zeros(times),np.cos(2*w*t)*np.sin(2*w*t)],\n",
    "            [np.zeros(times),np.zeros(times),np.zeros(times),np.zeros(times)],\n",
    "            [np.cos(2*w*t),np.cos(2*w*t)*np.sin(2*w*t),np.zeros(times),np.cos(2*w*t)*np.cos(2*w*t)]\n",
    "            ])\n",
    "    sum_D_pinv = np.linalg.pinv(D_mat.sum(2))\n",
    "    D_E = np.dot(D_mat.sum(2), sum_D_pinv)\n",
    "    wp = det*I_obs[t]\n",
    "    sum_wp = wp.sum(1)\n",
    "    s_tilde = np.dot(sum_D_pinv, sum_wp)\n",
    "    return s_tilde#0~NPIX番目までのピクセルに対するストークスパラメータが入る．\n",
    "\n"
   ]
  },
  {
   "cell_type": "code",
   "execution_count": 19,
   "metadata": {},
   "outputs": [
    {
     "data": {
      "text/plain": [
       "786432"
      ]
     },
     "execution_count": 19,
     "metadata": {},
     "output_type": "execute_result"
    }
   ],
   "source": [
    "NSIDE = 256\n",
    "NPIX = hp.nside2npix(NSIDE)\n",
    "\n",
    "day = 60*60*24#1日の秒数\n",
    "year = day*365\n",
    "times = year +1\n",
    "time_array = np.arange(0,times,1)\n",
    "NPIX"
   ]
  },
  {
   "cell_type": "code",
   "execution_count": 4,
   "metadata": {},
   "outputs": [],
   "source": [
    "start = time.time()\n",
    "orbit_file = \"orbit_angle.npz\"\n",
    "\n",
    "#orbit_fileからtimes秒まで読み込み，times秒間フライトしたデータを取得する．\n",
    "orbit = np.load(orbit_file)\n",
    "orbit = np.array([orbit[\"theta\"][:times], orbit[\"phi\"][:times]])\n",
    "\n",
    "pix = hp.ang2pix(NSIDE,orbit[0],orbit[1])\n",
    "pix\n",
    "#ヒストグラムの処理は長い\n",
    "hit_pix, bins = np.histogram(pix,bins=NPIX)\n"
   ]
  },
  {
   "cell_type": "code",
   "execution_count": 5,
   "metadata": {},
   "outputs": [
    {
     "name": "stderr",
     "output_type": "stream",
     "text": [
      "/Users/yusuke/.pyenv/versions/3.8.0/lib/python3.8/site-packages/healpy/fitsfunc.py:351: UserWarning: If you are not specifying the input dtype and using the default np.float64 dtype of read_map(), please consider that it will change in a future version to None as to keep the same dtype of the input file: please explicitly set the dtype if it is important to you.\n",
      "  warnings.warn(\n"
     ]
    },
    {
     "name": "stdout",
     "output_type": "stream",
     "text": [
      "NSIDE = 256\n",
      "ORDERING = NESTED in fits file\n",
      "INDXSCHM = IMPLICIT\n",
      "Ordering converted to RING\n"
     ]
    }
   ],
   "source": [
    "\"\"\"Planckのマップをreadして解析する\"\"\"\n",
    "file_path = \"COM_CompMap_CMB-commrul_0256_R1.00.fits\"\n",
    "I_planck = hp.read_map(file_path,field = 0)#PlanckのRING型データ\n",
    "I_obs = I_planck[pix]#Planckのデータを観測されるpix順に並び換えた時系列観測データI_obs\n",
    "I_obs\n",
    "\n",
    "I_map = np.zeros(NPIX)\n",
    "I_map[pix[:]] = I_planck[pix]\n",
    "\n"
   ]
  },
  {
   "cell_type": "code",
   "execution_count": 23,
   "metadata": {},
   "outputs": [
    {
     "name": "stderr",
     "output_type": "stream",
     "text": [
      "[Parallel(n_jobs=-1)]: Using backend ThreadingBackend with 4 concurrent workers.\n",
      "[Parallel(n_jobs=-1)]: Done  10 tasks      | elapsed:    0.2s\n",
      "[Parallel(n_jobs=-1)]: Done  64 tasks      | elapsed:    1.1s\n",
      "[Parallel(n_jobs=-1)]: Done 154 tasks      | elapsed:    2.6s\n",
      "[Parallel(n_jobs=-1)]: Done 280 tasks      | elapsed:    4.7s\n",
      "[Parallel(n_jobs=-1)]: Done 442 tasks      | elapsed:    7.3s\n",
      "[Parallel(n_jobs=-1)]: Done 640 tasks      | elapsed:   10.4s\n",
      "[Parallel(n_jobs=-1)]: Done 874 tasks      | elapsed:   14.8s\n",
      "[Parallel(n_jobs=-1)]: Done 1144 tasks      | elapsed:   19.6s\n",
      "[Parallel(n_jobs=-1)]: Done 1450 tasks      | elapsed:   24.7s\n",
      "[Parallel(n_jobs=-1)]: Done 1792 tasks      | elapsed:   30.2s\n",
      "[Parallel(n_jobs=-1)]: Done 2170 tasks      | elapsed:   37.1s\n",
      "[Parallel(n_jobs=-1)]: Done 2584 tasks      | elapsed:   43.7s\n",
      "[Parallel(n_jobs=-1)]: Done 3034 tasks      | elapsed:   50.7s\n",
      "[Parallel(n_jobs=-1)]: Done 3520 tasks      | elapsed:   59.1s\n",
      "[Parallel(n_jobs=-1)]: Done 4042 tasks      | elapsed:  1.1min\n",
      "[Parallel(n_jobs=-1)]: Done 4600 tasks      | elapsed:  1.3min\n",
      "[Parallel(n_jobs=-1)]: Done 5194 tasks      | elapsed:  1.4min\n",
      "[Parallel(n_jobs=-1)]: Done 5824 tasks      | elapsed:  1.6min\n",
      "[Parallel(n_jobs=-1)]: Done 6490 tasks      | elapsed:  1.9min\n",
      "[Parallel(n_jobs=-1)]: Done 7192 tasks      | elapsed:  2.1min\n",
      "[Parallel(n_jobs=-1)]: Done 7930 tasks      | elapsed:  2.3min\n",
      "[Parallel(n_jobs=-1)]: Done 8704 tasks      | elapsed:  2.5min\n",
      "[Parallel(n_jobs=-1)]: Done 9514 tasks      | elapsed:  2.7min\n"
     ]
    },
    {
     "name": "stdout",
     "output_type": "stream",
     "text": [
      "CPU times: user 8min 44s, sys: 28.9 s, total: 9min 13s\n",
      "Wall time: 2min 51s\n",
      "\n",
      "計算時間: 1285.6021540164948[sec]\n"
     ]
    },
    {
     "name": "stderr",
     "output_type": "stream",
     "text": [
      "[Parallel(n_jobs=-1)]: Done 10000 out of 10000 | elapsed:  2.9min finished\n"
     ]
    }
   ],
   "source": [
    "\n",
    "#0~NPIX番目までのピクセつがもつストークスパラメータが入る．\n",
    "#例えば，STOK[0]は0番目のピクセルのストークスパラメータ\n",
    "n=10000\n",
    "zero = np.zeros(NPIX-n)\n",
    "%time S_para = np.array(Parallel(n_jobs=-1, verbose=5, backend=\"threading\")( [delayed(stokes)(i, pix, I_obs) for i in range(n)] ))\n",
    "\n",
    "S_para = S_para.T\n",
    "map = np.concatenate([S_para[0], zero])\n",
    "map\n",
    "#hit_time(0)\n",
    "#pix_hit_timing = Parallel(n_jobs=-1, verbose=5, backend=\"threading\")( [delayed(hit_time)(i) for i in range(NPIX)] )\n",
    "#pix_hit_timing\n",
    "\n",
    "elapsed_time0 = time.time() - start\n",
    "print (\"\\n計算時間: {0}\".format(elapsed_time0) + \"[sec]\")\n",
    "\n"
   ]
  },
  {
   "cell_type": "code",
   "execution_count": 27,
   "metadata": {},
   "outputs": [
    {
     "data": {
      "image/png": "[encoded data removed]",
      "text/plain": [
       "<Figure size 612x388.8 with 2 Axes>"
      ]
     },
     "metadata": {
      "needs_background": "light"
     },
     "output_type": "display_data"
    }
   ],
   "source": [
    "hp.cartview(map, coord=['G'], title=\"Hit count map in Ecliptic coordinates\", unit=\"Hit number\")"
   ]
  },
  {
   "cell_type": "code",
   "execution_count": null,
   "metadata": {},
   "outputs": [],
   "source": [
    "hp.mollview(I_planck, title=\"I_STOKES observed by Planck\", unit=\"mK\",norm=\"hist\", cmap=\"jet\")\n",
    "hp.mollview(map, title=\"LiteBIRD observation {:.4}-days\".format(times/(day+1)), unit=\"mK\",norm=\"hist\",cmap=\"jet\")"
   ]
  }
 ],
 "metadata": {
  "kernelspec": {
   "display_name": "Python 3",
   "language": "python",
   "name": "python3"
  },
  "language_info": {
   "codemirror_mode": {
    "name": "ipython",
    "version": 3
   },
   "file_extension": ".py",
   "mimetype": "text/x-python",
   "name": "python",
   "nbconvert_exporter": "python",
   "pygments_lexer": "ipython3",
   "version": "3.8.0"
  }
 },
 "nbformat": 4,
 "nbformat_minor": 4
}
